{
  "nbformat": 4,
  "nbformat_minor": 0,
  "metadata": {
    "colab": {
      "name": "2d-plotting",
      "version": "0.3.2",
      "provenance": [],
      "collapsed_sections": [],
      "include_colab_link": true
    }
  },
  "cells": [
    {
      "cell_type": "markdown",
      "metadata": {
        "id": "view-in-github",
        "colab_type": "text"
      },
      "source": [
        "[View in Colaboratory](https://colab.research.google.com/github/saadkattan/python-visualization/blob/master/2d-plotting.ipynb)"
      ]
    },
    {
      "metadata": {
        "id": "5HjQEuRHBZvj",
        "colab_type": "text"
      },
      "cell_type": "markdown",
      "source": [
        "##2D Plotting:\n",
        "\n",
        "### Addtional knowaledge : \n",
        "- [`np.linespace`:](https://docs.scipy.org/doc/numpy/reference/generated/numpy.linspace.html)\n",
        "- [`np.meshgrid`:](https://docs.scipy.org/doc/numpy/reference/generated/numpy.meshgrid.html)\n",
        "- [`plt.pcolor`:](https://matplotlib.org/api/_as_gen/matplotlib.pyplot.pcolor.html)\n",
        "\n",
        "\n",
        "### Code list:: \n",
        "Summary of all instructions used in this file for personal reference use.\n",
        "```python\n",
        "\n",
        "import numpy as np\n",
        "import matplotlib.pyplot as plt\n",
        "u = np.linspace(-5, 5, 50)\n",
        "X,Y = np.meshgrid(u,v)\n",
        "Z = np.cos(2*np.sqrt(X**2 + Y**2))\n",
        "plt.pcolor(Z)\n",
        "plt.show()\n",
        "plt.savefig('sine_mesh.png')\n",
        "\n",
        "           \n",
        "```"
      ]
    },
    {
      "metadata": {
        "id": "VbJv4FSzC5Gt",
        "colab_type": "code",
        "colab": {
          "base_uri": "https://localhost:8080/",
          "height": 368
        },
        "outputId": "9d675c8d-541b-4ca6-89ff-1bb842b5482e"
      },
      "cell_type": "code",
      "source": [
        "\n",
        "import numpy as np\n",
        "import matplotlib.pyplot as plt\n",
        "# Generate two 1-D arrays: u, v\n",
        "u = np.linspace(-5, 5, 50)\n",
        "v = np.linspace(-3, 3, 30)\n",
        "# Generate 2-D arrays from u and v: X, Y\n",
        "X,Y = np.meshgrid(u,v) # return coordinate matrices from coordinate vectors.\n",
        "# Compute Z based on X and Y\n",
        "Z = np.cos(2*np.sqrt(X**2 + Y**2)) #this is the image function\n",
        "# Display the resulting image with pcolor\n",
        "plt.pcolor(Z)\n",
        "plt.show()\n",
        "# Save the figure to 'sine_mesh.png'\n",
        "plt.savefig('sine_mesh.png')\n"
      ],
      "execution_count": 35,
      "outputs": [
        {
          "output_type": "display_data",
          "data": {
            "image/png": "[encoded data removed]",
            "text/plain": [
              "<matplotlib.figure.Figure at 0x7ff4e2e7fd90>"
            ]
          },
          "metadata": {
            "tags": []
          }
        },
        {
          "output_type": "display_data",
          "data": {
            "text/plain": [
              "<matplotlib.figure.Figure at 0x7ff4e2f43810>"
            ]
          },
          "metadata": {
            "tags": []
          }
        }
      ]
    },
    {
      "metadata": {
        "id": "qt-qZMhjFi07",
        "colab_type": "code",
        "colab": {}
      },
      "cell_type": "code",
      "source": [
        ""
      ],
      "execution_count": 0,
      "outputs": []
    }
  ]
}